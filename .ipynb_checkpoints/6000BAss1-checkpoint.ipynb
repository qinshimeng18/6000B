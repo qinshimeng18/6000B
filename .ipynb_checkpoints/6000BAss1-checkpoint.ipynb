{
 "cells": [
  {
   "cell_type": "code",
   "execution_count": 1,
   "metadata": {
    "collapsed": true
   },
   "outputs": [],
   "source": [
    "import numpy as np\n",
    "import pandas as pd\n",
    "from scipy import stats\n",
    "from sklearn.svm import SVC\n",
    "from sklearn.model_selection import cross_val_score\n",
    "from sklearn.decomposition import PCA\n",
    "from sklearn.neural_network import MLPClassifier\n",
    "from sklearn.linear_model import LogisticRegression\n",
    "from sklearn.ensemble import RandomForestClassifier"
   ]
  },
  {
   "cell_type": "code",
   "execution_count": 2,
   "metadata": {
    "collapsed": true
   },
   "outputs": [],
   "source": [
    "tr = pd.read_csv('/Users/lucas/Desktop/workspace/6000B/individual1/traindata.csv',header=  None)"
   ]
  },
  {
   "cell_type": "code",
   "execution_count": 3,
   "metadata": {
    "collapsed": true
   },
   "outputs": [],
   "source": [
    "ts = pd.read_csv('/Users/lucas/Desktop/workspace/6000B/individual1/testdata.csv',header=  None)"
   ]
  },
  {
   "cell_type": "code",
   "execution_count": 4,
   "metadata": {
    "collapsed": true
   },
   "outputs": [],
   "source": [
    "tr_label = pd.read_csv('/Users/lucas/Desktop/workspace/6000B/individual1/trainlabel.csv',header=  None)"
   ]
  },
  {
   "cell_type": "code",
   "execution_count": 7,
   "metadata": {},
   "outputs": [
    {
     "name": "stdout",
     "output_type": "stream",
     "text": [
      "cv accuracy: 0.815 _/- 0.012\n",
      "CPU times: user 2.77 s, sys: 38.3 ms, total: 2.81 s\n",
      "Wall time: 2.9 s\n"
     ]
    }
   ],
   "source": [
    "%%time\n",
    "clf = SVC()\n",
    "scores = cross_val_score(clf,tr,tr_label[0],cv=5)\n",
    "print 'cv accuracy: %.3f _/- %.3f' % (np.mean(scores),np.std(scores))"
   ]
  },
  {
   "cell_type": "code",
   "execution_count": 11,
   "metadata": {
    "scrolled": true
   },
   "outputs": [
    {
     "name": "stdout",
     "output_type": "stream",
     "text": [
      "cv accuracy: 0.926 _/- 0.008\n",
      "CPU times: user 1.43 s, sys: 90.7 ms, total: 1.52 s\n",
      "Wall time: 1.48 s\n"
     ]
    }
   ],
   "source": [
    "%%time\n",
    "clf = MLPClassifier()\n",
    "scores = cross_val_score(clf,tr,tr_label[0],cv=5)\n",
    "print 'cv accuracy: %.3f _/- %.3f' % (np.mean(scores),np.std(scores))"
   ]
  },
  {
   "cell_type": "code",
   "execution_count": 10,
   "metadata": {
    "scrolled": true
   },
   "outputs": [
    {
     "name": "stdout",
     "output_type": "stream",
     "text": [
      "cv accuracy: 0.923 _/- 0.011\n",
      "CPU times: user 189 ms, sys: 3.76 ms, total: 193 ms\n",
      "Wall time: 192 ms\n"
     ]
    }
   ],
   "source": [
    "%%time\n",
    "clf = LogisticRegression()\n",
    "# tr_label = tr_label.reshape(tr_label.shape[0],)\n",
    "scores = cross_val_score(clf,tr,tr_label[0],cv=5)\n",
    "print 'cv accuracy: %.3f _/- %.3f' % (np.mean(scores),np.std(scores))"
   ]
  },
  {
   "cell_type": "code",
   "execution_count": 23,
   "metadata": {},
   "outputs": [
    {
     "name": "stdout",
     "output_type": "stream",
     "text": [
      "cv accuracy: 0.941 _/- 0.005\n",
      "CPU times: user 306 ms, sys: 3.62 ms, total: 310 ms\n",
      "Wall time: 313 ms\n"
     ]
    }
   ],
   "source": [
    "%%time\n",
    "clf = RandomForestClassifier()\n",
    "tr=pd.DataFrame(stats.zscore(tr))\n",
    "scores = cross_val_score(clf,tr,tr_label[0],cv=5)\n",
    "print 'cv accuracy: %.3f _/- %.3f' % (np.mean(scores),np.std(scores))"
   ]
  },
  {
   "cell_type": "markdown",
   "metadata": {},
   "source": [
    "# After pca and z_score"
   ]
  },
  {
   "cell_type": "code",
   "execution_count": 5,
   "metadata": {},
   "outputs": [
    {
     "name": "stdout",
     "output_type": "stream",
     "text": [
      "0.96788186764\n"
     ]
    }
   ],
   "source": [
    "tr=pd.DataFrame(stats.zscore(tr))\n",
    "pca = PCA(n_components=50)\n",
    "pca.fit(tr)\n",
    "print sum(pca.explained_variance_ratio_)\n",
    "tr = pca.transform(tr)\n",
    "ts=pd.DataFrame(stats.zscore(ts))\n",
    "ts = pca.transform(ts)"
   ]
  },
  {
   "cell_type": "code",
   "execution_count": 5,
   "metadata": {},
   "outputs": [
    {
     "name": "stdout",
     "output_type": "stream",
     "text": [
      "cv accuracy: 0.936 _/- 0.008\n",
      "CPU times: user 344 ms, sys: 11.9 ms, total: 356 ms\n",
      "Wall time: 374 ms\n"
     ]
    }
   ],
   "source": [
    "%%time\n",
    "clf = RandomForestClassifier()\n",
    "scores = cross_val_score(clf,tr,tr_label[0],cv=5)\n",
    "print 'cv accuracy: %.3f _/- %.3f' % (np.mean(scores),np.std(scores))"
   ]
  },
  {
   "cell_type": "code",
   "execution_count": 16,
   "metadata": {},
   "outputs": [
    {
     "name": "stdout",
     "output_type": "stream",
     "text": [
      "cv accuracy: 0.928 _/- 0.007\n",
      "CPU times: user 1.1 s, sys: 23.7 ms, total: 1.13 s\n",
      "Wall time: 1.16 s\n"
     ]
    }
   ],
   "source": [
    "%%time\n",
    "clf = SVC()\n",
    "scores = cross_val_score(clf,tr,tr_label[0],cv=5)\n",
    "print 'cv accuracy: %.3f _/- %.3f' % (np.mean(scores),np.std(scores))"
   ]
  },
  {
   "cell_type": "code",
   "execution_count": 18,
   "metadata": {},
   "outputs": [
    {
     "name": "stdout",
     "output_type": "stream",
     "text": [
      "cv accuracy: 0.942 _/- 0.008\n",
      "CPU times: user 9.82 s, sys: 527 ms, total: 10.3 s\n",
      "Wall time: 10 s\n"
     ]
    }
   ],
   "source": [
    "%%time\n",
    "clf = MLPClassifier(activation='relu')\n",
    "scores = cross_val_score(clf,tr,tr_label[0],cv=5)\n",
    "print 'cv accuracy: %.3f _/- %.3f' % (np.mean(scores),np.std(scores))"
   ]
  },
  {
   "cell_type": "code",
   "execution_count": 15,
   "metadata": {},
   "outputs": [
    {
     "name": "stdout",
     "output_type": "stream",
     "text": [
      "cv accuracy: 0.923 _/- 0.011\n",
      "CPU times: user 174 ms, sys: 10.3 ms, total: 185 ms\n",
      "Wall time: 194 ms\n"
     ]
    }
   ],
   "source": [
    "%%time\n",
    "clf = LogisticRegression()\n",
    "# tr_label = tr_label.reshape(tr_label.shape[0],)\n",
    "scores = cross_val_score(clf,tr,tr_label[0],cv=5)\n",
    "print 'cv accuracy: %.3f _/- %.3f' % (np.mean(scores),np.std(scores))"
   ]
  },
  {
   "cell_type": "markdown",
   "metadata": {},
   "source": [
    "# final classifier"
   ]
  },
  {
   "cell_type": "code",
   "execution_count": 11,
   "metadata": {},
   "outputs": [
    {
     "name": "stdout",
     "output_type": "stream",
     "text": [
      "CPU times: user 2.89 s, sys: 192 ms, total: 3.08 s\n",
      "Wall time: 3.18 s\n"
     ]
    }
   ],
   "source": [
    "%%time\n",
    "clf = MLPClassifier(activation='relu')\n",
    "clf.fit(tr,tr_label[0])\n",
    "pre = clf.predict(ts)\n",
    "pd.DataFrame(pre).to_csv('6000bpre',header=False, index=False)"
   ]
  }
 ],
 "metadata": {
  "hide_input": false,
  "kernelspec": {
   "display_name": "Python 2",
   "language": "python",
   "name": "python2"
  },
  "language_info": {
   "codemirror_mode": {
    "name": "ipython",
    "version": 2
   },
   "file_extension": ".py",
   "mimetype": "text/x-python",
   "name": "python",
   "nbconvert_exporter": "python",
   "pygments_lexer": "ipython2",
   "version": "2.7.13"
  },
  "varInspector": {
   "cols": {
    "lenName": 16,
    "lenType": 16,
    "lenVar": 40
   },
   "kernels_config": {
    "python": {
     "delete_cmd_postfix": "",
     "delete_cmd_prefix": "del ",
     "library": "var_list.py",
     "varRefreshCmd": "print(var_dic_list())"
    },
    "r": {
     "delete_cmd_postfix": ") ",
     "delete_cmd_prefix": "rm(",
     "library": "var_list.r",
     "varRefreshCmd": "cat(var_dic_list()) "
    }
   },
   "types_to_exclude": [
    "module",
    "function",
    "builtin_function_or_method",
    "instance",
    "_Feature"
   ],
   "window_display": false
  }
 },
 "nbformat": 4,
 "nbformat_minor": 2
}
